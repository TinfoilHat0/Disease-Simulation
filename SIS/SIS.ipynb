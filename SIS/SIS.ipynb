{
 "metadata": {
  "name": ""
 },
 "nbformat": 3,
 "nbformat_minor": 0,
 "worksheets": [
  {
   "cells": [
    {
     "cell_type": "code",
     "collapsed": false,
     "input": [
      "from _NetworKit import Graph\n",
      "import random\n",
      "\n",
      "class SIS:\n",
      "    \"\"\" Implementation of the SIS simulation as defined in [Chakrabarti et al., 2008] \"\"\"\n",
      "    def __init__(self, G, beta, gamma, n0, t):\n",
      "        \"\"\"\n",
      "            G: Network\n",
      "            beta: Infect prob.\n",
      "            gamma: Cure prob.\n",
      "            n0: Initial # of the infected nodes\n",
      "            t: # of timesteps\n",
      "        \"\"\"\n",
      "        self.G = G\n",
      "        self.n0 = n0\n",
      "        self.size = G.numberOfNodes()\n",
      "        if self.n0 > self.size:\n",
      "            raise ValueError('Initial # of infected population must be smaller than networks size')\n",
      "        self.beta = beta\n",
      "        self.gamma = gamma\n",
      "        self.susceptible = []\n",
      "        self.infected = []\n",
      "        self.toInfect = []\n",
      "        self.log = []\n",
      "        self.t = t\n",
      "\n",
      "    def setup(self):\n",
      "        \"\"\" Sets up initial states for the nodes of the network \"\"\"\n",
      "        #0. Reset node states in case of multiple simulations are run using the same class\n",
      "        self.susceptible = []\n",
      "        self.infected = []\n",
      "        self.toInfect = []\n",
      "        #1. Set state of all nodes to susceptible\n",
      "        for n in range(0, self.size):\n",
      "            self.susceptible.append(n)\n",
      "        #2. Distribute initial infections to network randomly\n",
      "        count = 0\n",
      "        while count < n0:\n",
      "            r = random.randint(0, self.size-1)\n",
      "            if r in self.susceptible:\n",
      "                self.susceptible.remove(r)\n",
      "                self.infected.append(r)\n",
      "                count += 1\n",
      "\n",
      "    def run(self):\n",
      "        \"\"\" Runs a SIS simulation with on given network and with supplied parameters and returns the sim. log \"\"\"\n",
      "        #1. Set initial conditions for the network\n",
      "        self.setup()\n",
      "        nInfected = len(self.infected)\n",
      "        nSusceptible = len(self.susceptible)\n",
      "        self.log.append((0, nSusceptible, nInfected))\n",
      "        #2. Run simulation for t timesteps\n",
      "        for step in range(1, self.t+1):\n",
      "            #2.1 Each infected node spreads infection to its neighbors with beta prob.\n",
      "            for u in self.infected:\n",
      "                for v in self.G.neighbors(u):\n",
      "                    if v in self.susceptible and v not in self.toInfect:\n",
      "                        r = random.random()\n",
      "                        if r <= self.beta:\n",
      "                            self.toInfect.append(v)\n",
      "            #2.2 Update state of newly infected nodes\n",
      "            for v in self.toInfect:\n",
      "                self.infected.append(v)\n",
      "                self.susceptible.remove(v)\n",
      "            self.toInfect.clear()\n",
      "\n",
      "            #2.3 Cure infected nodes with gamma prob.\n",
      "            for u in self.infected:\n",
      "                r = random.random()\n",
      "                if r <= self.gamma:\n",
      "                    self.infected.remove(u)\n",
      "                    self.susceptible.append(u)\n",
      "\n",
      "            #2.4 Record # of susceptible and infected in log for this timestep\n",
      "            nInfected = len(self.infected)\n",
      "            nSusceptible = len(self.susceptible)\n",
      "            self.log.append((step, nSusceptible, nInfected))\n",
      "\n",
      "            #2.5 Print progress of simulation in every %10\n",
      "            progress = int((step/self.t)*100)\n",
      "            if progress >= 10 and progress % 10 == 0:\n",
      "                print('Progress: ' + str(progress))\n",
      "\n",
      "        return self.log\n"
     ],
     "language": "python",
     "metadata": {},
     "outputs": [],
     "prompt_number": 1
    },
    {
     "cell_type": "code",
     "collapsed": false,
     "input": [
      "import networkit as nt\n",
      "import random"
     ],
     "language": "python",
     "metadata": {},
     "outputs": [
      {
       "output_type": "stream",
       "stream": "stdout",
       "text": [
        " WARNING: module 'sklearn' not found, supervised link prediction won't be available \n"
       ]
      },
      {
       "output_type": "stream",
       "stream": "stderr",
       "text": [
        "/usr/local/lib/python3.4/dist-packages/matplotlib/backends/backend_gtk3agg.py:18: UserWarning: The Gtk3Agg backend is known to not work on Python 3.x with pycairo. Try installing cairocffi.\n",
        "  \"The Gtk3Agg backend is known to not work on Python 3.x with pycairo. \"\n"
       ]
      }
     ],
     "prompt_number": 2
    },
    {
     "cell_type": "code",
     "collapsed": false,
     "input": [
      "reader = nt.GraphMLIO.GraphMLReader()"
     ],
     "language": "python",
     "metadata": {},
     "outputs": [],
     "prompt_number": 3
    },
    {
     "cell_type": "code",
     "collapsed": false,
     "input": [
      "#G = reader.read('oregon1ML')\n",
      "G2 = nt.generators.ErdosRenyiGenerator(1000, 0.4).generate()"
     ],
     "language": "python",
     "metadata": {},
     "outputs": [],
     "prompt_number": 4
    },
    {
     "cell_type": "code",
     "collapsed": false,
     "input": [
      "(beta, gamma, n0, t) = (0.2, 0.48, 10, 200)"
     ],
     "language": "python",
     "metadata": {},
     "outputs": [],
     "prompt_number": 5
    },
    {
     "cell_type": "code",
     "collapsed": false,
     "input": [
      "sim = SIS(G2, beta, gamma, n0, t)"
     ],
     "language": "python",
     "metadata": {},
     "outputs": [],
     "prompt_number": "*"
    },
    {
     "cell_type": "code",
     "collapsed": false,
     "input": [
      "sim.run()"
     ],
     "language": "python",
     "metadata": {},
     "outputs": [],
     "prompt_number": "*"
    },
    {
     "cell_type": "code",
     "collapsed": false,
     "input": [],
     "language": "python",
     "metadata": {},
     "outputs": []
    }
   ],
   "metadata": {}
  }
 ]
}