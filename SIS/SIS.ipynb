{
 "metadata": {
  "name": ""
 },
 "nbformat": 3,
 "nbformat_minor": 0,
 "worksheets": [
  {
   "cells": [
    {
     "cell_type": "code",
     "collapsed": false,
     "input": [
      "import networkit as nt\n",
      "import random"
     ],
     "language": "python",
     "metadata": {},
     "outputs": [
      {
       "output_type": "stream",
       "stream": "stdout",
       "text": [
        " WARNING: module 'sklearn' not found, supervised link prediction won't be available \n"
       ]
      },
      {
       "output_type": "stream",
       "stream": "stderr",
       "text": [
        "/usr/local/lib/python3.4/dist-packages/matplotlib/backends/backend_gtk3agg.py:18: UserWarning: The Gtk3Agg backend is known to not work on Python 3.x with pycairo. Try installing cairocffi.\n",
        "  \"The Gtk3Agg backend is known to not work on Python 3.x with pycairo. \"\n"
       ]
      }
     ],
     "prompt_number": 1
    },
    {
     "cell_type": "code",
     "collapsed": false,
     "input": [
      "from _NetworKit import Graph\n",
      "import matplotlib.pyplot as plt\n",
      "import random\n",
      "\n",
      "class SIS:\n",
      "    \"\"\" Implementation of the SIS simulation as defined in [Chakrabarti et al., 2008] \"\"\"\n",
      "    def __init__(self, G, beta, gamma, n0, t):\n",
      "        \"\"\"\n",
      "            G: Network\n",
      "            beta: Infect prob.\n",
      "            gamma: Cure prob.\n",
      "            n0: Initial # of the infected nodes\n",
      "            t: # of timesteps\n",
      "        \"\"\"\n",
      "        self.G = G\n",
      "        self.n0 = n0\n",
      "        self.size = G.numberOfNodes()\n",
      "        if self.n0 > self.size:\n",
      "            raise ValueError('Initial # of infected population must be smaller than networks size')\n",
      "        self.beta = beta\n",
      "        self.gamma = gamma\n",
      "        self.susceptible = []\n",
      "        self.infected = []\n",
      "        self.toInfect = []\n",
      "        self.log = []\n",
      "        self.t = t\n",
      "\n",
      "    def setup(self):\n",
      "        \"\"\" Sets up initial states for the nodes of the network \"\"\"\n",
      "        #0. Reset node states in case of multiple simulations are run using the same class\n",
      "        self.susceptible = []\n",
      "        self.infected = []\n",
      "        self.toInfect = []\n",
      "        self.log = []\n",
      "        #1. Set state of all nodes to susceptible\n",
      "        for n in range(0, self.size):\n",
      "            self.susceptible.append(n)\n",
      "        #2. Distribute initial infections to network randomly\n",
      "        count = 0\n",
      "        while count < n0:\n",
      "            r = random.randint(0, self.size-1)\n",
      "            if r in self.susceptible:\n",
      "                self.susceptible.remove(r)\n",
      "                self.infected.append(r)\n",
      "                count += 1\n",
      "\n",
      "    def run(self, filename):\n",
      "        \"\"\" Runs a SIS simulation on given network and with supplied parameters and returns the sim. log \"\"\"\n",
      "        #1. Set initial conditions for the network\n",
      "        self.setup()\n",
      "        nInfected = len(self.infected)\n",
      "        nSusceptible = len(self.susceptible)\n",
      "        self.log.append((0, nSusceptible, nInfected))\n",
      "        #2. Run simulation for t timesteps\n",
      "        for step in range(1, self.t+1):\n",
      "            #2.1 Each infected node spreads infection to its neighbors with beta prob.\n",
      "            for u in self.infected:\n",
      "                for v in self.G.neighbors(u):\n",
      "                    if v in self.susceptible and v not in self.toInfect:\n",
      "                        r = random.random()\n",
      "                        if r < self.beta:\n",
      "                            self.toInfect.append(v)\n",
      "\n",
      "            #2.2 Update state of newly infected nodes\n",
      "            for v in self.toInfect:\n",
      "                self.infected.append(v)\n",
      "                self.susceptible.remove(v)\n",
      "            self.toInfect = []\n",
      "\n",
      "            #2.3 Cure infected nodes with gamma prob.\n",
      "            for u in self.infected:\n",
      "                r = random.random()\n",
      "                if r < self.gamma:\n",
      "                    self.infected.remove(u)\n",
      "                    self.susceptible.append(u)\n",
      "\n",
      "            #2.4 Record # of susceptible and infected in log for this timestep\n",
      "            nInfected = len(self.infected)\n",
      "            nSusceptible = len(self.susceptible)\n",
      "            self.log.append((step, nSusceptible, nInfected))\n",
      "\n",
      "            #2.5 Print progress of simulation in every %10\n",
      "            progress = int((step/self.t)*100)\n",
      "            if progress >= 10 and progress % 10 == 0:\n",
      "                print('Progress: ' + str(progress))\n",
      "\n",
      "        self.saveResults(filename)\n",
      "        return self.log\n",
      "\n",
      "    def saveResults(self, filename):\n",
      "        \"\"\" Saves result of simulation \"\"\"\n",
      "        #1. # of infected, # of susceptible and timestep\n",
      "        file = open(filename,'w')\n",
      "        file.write(\"# Beta: \" + str(self.beta) + \" Gamma: \" + str(self.gamma) +\"\\n\")\n",
      "        file.write(\"# Timestep,\" + \"N(S),\" + \"N(I)\" + \"\\n\")\n",
      "        for item in self.log:\n",
      "            file.write(str(item[0]) + \",\" + str(item[1]) + \",\" + str(item[2]) + \"\\n\")\n"
     ],
     "language": "python",
     "metadata": {},
     "outputs": [],
     "prompt_number": 2
    },
    {
     "cell_type": "code",
     "collapsed": false,
     "input": [
      "G = nt.generators.ErdosRenyiGenerator(1000, 0.004).generate()"
     ],
     "language": "python",
     "metadata": {},
     "outputs": [],
     "prompt_number": 3
    },
    {
     "cell_type": "code",
     "collapsed": false,
     "input": [
      "nt.properties.GraphProperties.averageDegree(G)"
     ],
     "language": "python",
     "metadata": {},
     "outputs": [
      {
       "metadata": {},
       "output_type": "pyout",
       "prompt_number": 4,
       "text": [
        "4.006"
       ]
      }
     ],
     "prompt_number": 4
    },
    {
     "cell_type": "code",
     "collapsed": false,
     "input": [
      "(beta, gamma, n0, t) = (0.2, 0.72, 10, 200)"
     ],
     "language": "python",
     "metadata": {},
     "outputs": [],
     "prompt_number": 5
    },
    {
     "cell_type": "code",
     "collapsed": false,
     "input": [
      "sim = SIS(G, beta, gamma, n0, t)"
     ],
     "language": "python",
     "metadata": {},
     "outputs": [],
     "prompt_number": 6
    },
    {
     "cell_type": "code",
     "collapsed": false,
     "input": [
      "for i in range(0, 15):\n",
      "    sim.run('results/results3/' + 'run_' + str(i) + '.txt')"
     ],
     "language": "python",
     "metadata": {},
     "outputs": [
      {
       "output_type": "stream",
       "stream": "stdout",
       "text": [
        "Progress: 10\n",
        "Progress: 10\n",
        "Progress: 20\n",
        "Progress: 20\n",
        "Progress: 30"
       ]
      },
      {
       "output_type": "stream",
       "stream": "stdout",
       "text": [
        "\n",
        "Progress: 30\n",
        "Progress: 40"
       ]
      },
      {
       "output_type": "stream",
       "stream": "stdout",
       "text": [
        "\n",
        "Progress: 40\n",
        "Progress: 50"
       ]
      },
      {
       "output_type": "stream",
       "stream": "stdout",
       "text": [
        "\n",
        "Progress: 50\n",
        "Progress: 60"
       ]
      },
      {
       "output_type": "stream",
       "stream": "stdout",
       "text": [
        "\n",
        "Progress: 60\n",
        "Progress: 70"
       ]
      },
      {
       "output_type": "stream",
       "stream": "stdout",
       "text": [
        "\n",
        "Progress: 70\n",
        "Progress: 80"
       ]
      },
      {
       "output_type": "stream",
       "stream": "stdout",
       "text": [
        "\n",
        "Progress: 80\n",
        "Progress: 90"
       ]
      },
      {
       "output_type": "stream",
       "stream": "stdout",
       "text": [
        "\n",
        "Progress: 90\n",
        "Progress: 100"
       ]
      },
      {
       "output_type": "stream",
       "stream": "stdout",
       "text": [
        "\n",
        "Progress: 10\n",
        "Progress: 10\n",
        "Progress: 20"
       ]
      },
      {
       "output_type": "stream",
       "stream": "stdout",
       "text": [
        "\n",
        "Progress: 20\n",
        "Progress: 30"
       ]
      },
      {
       "output_type": "stream",
       "stream": "stdout",
       "text": [
        "\n",
        "Progress: 30\n",
        "Progress: 40"
       ]
      },
      {
       "output_type": "stream",
       "stream": "stdout",
       "text": [
        "\n",
        "Progress: 40\n",
        "Progress: 50"
       ]
      },
      {
       "output_type": "stream",
       "stream": "stdout",
       "text": [
        "\n",
        "Progress: 50\n",
        "Progress: 60"
       ]
      },
      {
       "output_type": "stream",
       "stream": "stdout",
       "text": [
        "\n",
        "Progress: 60\n",
        "Progress: 70"
       ]
      },
      {
       "output_type": "stream",
       "stream": "stdout",
       "text": [
        "\n",
        "Progress: 70\n",
        "Progress: 80"
       ]
      },
      {
       "output_type": "stream",
       "stream": "stdout",
       "text": [
        "\n",
        "Progress: 80\n",
        "Progress: 90"
       ]
      },
      {
       "output_type": "stream",
       "stream": "stdout",
       "text": [
        "\n",
        "Progress: 90\n",
        "Progress: 100"
       ]
      },
      {
       "output_type": "stream",
       "stream": "stdout",
       "text": [
        "\n",
        "Progress: 10\n",
        "Progress: 10\n",
        "Progress: 20"
       ]
      },
      {
       "output_type": "stream",
       "stream": "stdout",
       "text": [
        "\n",
        "Progress: 20\n",
        "Progress: 30"
       ]
      },
      {
       "output_type": "stream",
       "stream": "stdout",
       "text": [
        "\n",
        "Progress: 30\n",
        "Progress: 40"
       ]
      },
      {
       "output_type": "stream",
       "stream": "stdout",
       "text": [
        "\n",
        "Progress: 40\n",
        "Progress: 50"
       ]
      },
      {
       "output_type": "stream",
       "stream": "stdout",
       "text": [
        "\n",
        "Progress: 50\n",
        "Progress: 60"
       ]
      },
      {
       "output_type": "stream",
       "stream": "stdout",
       "text": [
        "\n",
        "Progress: 60\n",
        "Progress: 70"
       ]
      },
      {
       "output_type": "stream",
       "stream": "stdout",
       "text": [
        "\n",
        "Progress: 70\n",
        "Progress: 80"
       ]
      },
      {
       "output_type": "stream",
       "stream": "stdout",
       "text": [
        "\n",
        "Progress: 80\n",
        "Progress: 90"
       ]
      },
      {
       "output_type": "stream",
       "stream": "stdout",
       "text": [
        "\n",
        "Progress: 90\n",
        "Progress: 100"
       ]
      },
      {
       "output_type": "stream",
       "stream": "stdout",
       "text": [
        "\n",
        "Progress: 10\n",
        "Progress: 10\n",
        "Progress: 20\n",
        "Progress: 20\n",
        "Progress: 30"
       ]
      },
      {
       "output_type": "stream",
       "stream": "stdout",
       "text": [
        "\n",
        "Progress: 30\n",
        "Progress: 40\n",
        "Progress: 40\n",
        "Progress: 50"
       ]
      },
      {
       "output_type": "stream",
       "stream": "stdout",
       "text": [
        "\n",
        "Progress: 50\n",
        "Progress: 60"
       ]
      },
      {
       "output_type": "stream",
       "stream": "stdout",
       "text": [
        "\n",
        "Progress: 60\n",
        "Progress: 70"
       ]
      },
      {
       "output_type": "stream",
       "stream": "stdout",
       "text": [
        "\n",
        "Progress: 70\n",
        "Progress: 80"
       ]
      },
      {
       "output_type": "stream",
       "stream": "stdout",
       "text": [
        "\n",
        "Progress: 80\n",
        "Progress: 90"
       ]
      },
      {
       "output_type": "stream",
       "stream": "stdout",
       "text": [
        "\n",
        "Progress: 90\n",
        "Progress: 100"
       ]
      },
      {
       "output_type": "stream",
       "stream": "stdout",
       "text": [
        "\n",
        "Progress: 10\n",
        "Progress: 10\n",
        "Progress: 20"
       ]
      },
      {
       "output_type": "stream",
       "stream": "stdout",
       "text": [
        "\n",
        "Progress: 20\n",
        "Progress: 30"
       ]
      },
      {
       "output_type": "stream",
       "stream": "stdout",
       "text": [
        "\n",
        "Progress: 30\n",
        "Progress: 40"
       ]
      },
      {
       "output_type": "stream",
       "stream": "stdout",
       "text": [
        "\n",
        "Progress: 40\n",
        "Progress: 50"
       ]
      },
      {
       "output_type": "stream",
       "stream": "stdout",
       "text": [
        "\n",
        "Progress: 50\n",
        "Progress: 60"
       ]
      },
      {
       "output_type": "stream",
       "stream": "stdout",
       "text": [
        "\n",
        "Progress: 60\n",
        "Progress: 70"
       ]
      },
      {
       "output_type": "stream",
       "stream": "stdout",
       "text": [
        "\n",
        "Progress: 70\n",
        "Progress: 80"
       ]
      },
      {
       "output_type": "stream",
       "stream": "stdout",
       "text": [
        "\n",
        "Progress: 80\n",
        "Progress: 90"
       ]
      },
      {
       "output_type": "stream",
       "stream": "stdout",
       "text": [
        "\n",
        "Progress: 90\n",
        "Progress: 100"
       ]
      },
      {
       "output_type": "stream",
       "stream": "stdout",
       "text": [
        "\n",
        "Progress: 10\n",
        "Progress: 10\n",
        "Progress: 20\n",
        "Progress: 20\n",
        "Progress: 30"
       ]
      },
      {
       "output_type": "stream",
       "stream": "stdout",
       "text": [
        "\n",
        "Progress: 30\n",
        "Progress: 40"
       ]
      },
      {
       "output_type": "stream",
       "stream": "stdout",
       "text": [
        "\n",
        "Progress: 40\n",
        "Progress: 50"
       ]
      },
      {
       "output_type": "stream",
       "stream": "stdout",
       "text": [
        "\n",
        "Progress: 50\n",
        "Progress: 60"
       ]
      },
      {
       "output_type": "stream",
       "stream": "stdout",
       "text": [
        "\n",
        "Progress: 60\n",
        "Progress: 70"
       ]
      },
      {
       "output_type": "stream",
       "stream": "stdout",
       "text": [
        "\n",
        "Progress: 70\n",
        "Progress: 80"
       ]
      },
      {
       "output_type": "stream",
       "stream": "stdout",
       "text": [
        "\n",
        "Progress: 80\n",
        "Progress: 90"
       ]
      },
      {
       "output_type": "stream",
       "stream": "stdout",
       "text": [
        "\n",
        "Progress: 90\n",
        "Progress: 100"
       ]
      },
      {
       "output_type": "stream",
       "stream": "stdout",
       "text": [
        "\n",
        "Progress: 10\n",
        "Progress: 10\n",
        "Progress: 20"
       ]
      },
      {
       "output_type": "stream",
       "stream": "stdout",
       "text": [
        "\n",
        "Progress: 20\n",
        "Progress: 30"
       ]
      },
      {
       "output_type": "stream",
       "stream": "stdout",
       "text": [
        "\n",
        "Progress: 30\n",
        "Progress: 40"
       ]
      },
      {
       "output_type": "stream",
       "stream": "stdout",
       "text": [
        "\n",
        "Progress: 40\n",
        "Progress: 50"
       ]
      },
      {
       "output_type": "stream",
       "stream": "stdout",
       "text": [
        "\n",
        "Progress: 50\n",
        "Progress: 60"
       ]
      },
      {
       "output_type": "stream",
       "stream": "stdout",
       "text": [
        "\n",
        "Progress: 60\n",
        "Progress: 70"
       ]
      },
      {
       "output_type": "stream",
       "stream": "stdout",
       "text": [
        "\n",
        "Progress: 70\n",
        "Progress: 80"
       ]
      },
      {
       "output_type": "stream",
       "stream": "stdout",
       "text": [
        "\n",
        "Progress: 80\n",
        "Progress: 90"
       ]
      },
      {
       "output_type": "stream",
       "stream": "stdout",
       "text": [
        "\n",
        "Progress: 90\n",
        "Progress: 100"
       ]
      },
      {
       "output_type": "stream",
       "stream": "stdout",
       "text": [
        "\n",
        "Progress: 10\n",
        "Progress: 10\n",
        "Progress: 20\n",
        "Progress: 20\n",
        "Progress: 30\n",
        "Progress: 30\n",
        "Progress: 40"
       ]
      },
      {
       "output_type": "stream",
       "stream": "stdout",
       "text": [
        "\n",
        "Progress: 40\n",
        "Progress: 50"
       ]
      },
      {
       "output_type": "stream",
       "stream": "stdout",
       "text": [
        "\n",
        "Progress: 50\n",
        "Progress: 60"
       ]
      },
      {
       "output_type": "stream",
       "stream": "stdout",
       "text": [
        "\n",
        "Progress: 60\n",
        "Progress: 70"
       ]
      },
      {
       "output_type": "stream",
       "stream": "stdout",
       "text": [
        "\n",
        "Progress: 70\n",
        "Progress: 80"
       ]
      },
      {
       "output_type": "stream",
       "stream": "stdout",
       "text": [
        "\n",
        "Progress: 80\n",
        "Progress: 90"
       ]
      },
      {
       "output_type": "stream",
       "stream": "stdout",
       "text": [
        "\n",
        "Progress: 90\n",
        "Progress: 100"
       ]
      },
      {
       "output_type": "stream",
       "stream": "stdout",
       "text": [
        "\n",
        "Progress: 10\n",
        "Progress: 10\n",
        "Progress: 20\n",
        "Progress: 20\n",
        "Progress: 30"
       ]
      },
      {
       "output_type": "stream",
       "stream": "stdout",
       "text": [
        "\n",
        "Progress: 30\n",
        "Progress: 40"
       ]
      },
      {
       "output_type": "stream",
       "stream": "stdout",
       "text": [
        "\n",
        "Progress: 40\n",
        "Progress: 50"
       ]
      },
      {
       "output_type": "stream",
       "stream": "stdout",
       "text": [
        "\n",
        "Progress: 50\n",
        "Progress: 60"
       ]
      },
      {
       "output_type": "stream",
       "stream": "stdout",
       "text": [
        "\n",
        "Progress: 60\n",
        "Progress: 70"
       ]
      },
      {
       "output_type": "stream",
       "stream": "stdout",
       "text": [
        "\n",
        "Progress: 70\n",
        "Progress: 80"
       ]
      },
      {
       "output_type": "stream",
       "stream": "stdout",
       "text": [
        "\n",
        "Progress: 80\n",
        "Progress: 90"
       ]
      },
      {
       "output_type": "stream",
       "stream": "stdout",
       "text": [
        "\n",
        "Progress: 90\n",
        "Progress: 100"
       ]
      },
      {
       "output_type": "stream",
       "stream": "stdout",
       "text": [
        "\n",
        "Progress: 10\n",
        "Progress: 10\n",
        "Progress: 20\n",
        "Progress: 20\n",
        "Progress: 30"
       ]
      },
      {
       "output_type": "stream",
       "stream": "stdout",
       "text": [
        "\n",
        "Progress: 30\n",
        "Progress: 40"
       ]
      },
      {
       "output_type": "stream",
       "stream": "stdout",
       "text": [
        "\n",
        "Progress: 40\n",
        "Progress: 50"
       ]
      },
      {
       "output_type": "stream",
       "stream": "stdout",
       "text": [
        "\n",
        "Progress: 50\n",
        "Progress: 60"
       ]
      },
      {
       "output_type": "stream",
       "stream": "stdout",
       "text": [
        "\n",
        "Progress: 60\n",
        "Progress: 70"
       ]
      },
      {
       "output_type": "stream",
       "stream": "stdout",
       "text": [
        "\n",
        "Progress: 70\n",
        "Progress: 80"
       ]
      },
      {
       "output_type": "stream",
       "stream": "stdout",
       "text": [
        "\n",
        "Progress: 80\n",
        "Progress: 90"
       ]
      },
      {
       "output_type": "stream",
       "stream": "stdout",
       "text": [
        "\n",
        "Progress: 90\n",
        "Progress: 100"
       ]
      },
      {
       "output_type": "stream",
       "stream": "stdout",
       "text": [
        "\n",
        "Progress: 10\n",
        "Progress: 10\n",
        "Progress: 20"
       ]
      },
      {
       "output_type": "stream",
       "stream": "stdout",
       "text": [
        "\n",
        "Progress: 20\n",
        "Progress: 30"
       ]
      },
      {
       "output_type": "stream",
       "stream": "stdout",
       "text": [
        "\n",
        "Progress: 30\n",
        "Progress: 40"
       ]
      },
      {
       "output_type": "stream",
       "stream": "stdout",
       "text": [
        "\n",
        "Progress: 40\n",
        "Progress: 50"
       ]
      },
      {
       "output_type": "stream",
       "stream": "stdout",
       "text": [
        "\n",
        "Progress: 50\n",
        "Progress: 60"
       ]
      },
      {
       "output_type": "stream",
       "stream": "stdout",
       "text": [
        "\n",
        "Progress: 60\n",
        "Progress: 70"
       ]
      },
      {
       "output_type": "stream",
       "stream": "stdout",
       "text": [
        "\n",
        "Progress: 70\n",
        "Progress: 80"
       ]
      },
      {
       "output_type": "stream",
       "stream": "stdout",
       "text": [
        "\n",
        "Progress: 80\n",
        "Progress: 90"
       ]
      },
      {
       "output_type": "stream",
       "stream": "stdout",
       "text": [
        "\n",
        "Progress: 90\n",
        "Progress: 100"
       ]
      },
      {
       "output_type": "stream",
       "stream": "stdout",
       "text": [
        "\n",
        "Progress: 10\n",
        "Progress: 10\n",
        "Progress: 20"
       ]
      },
      {
       "output_type": "stream",
       "stream": "stdout",
       "text": [
        "\n",
        "Progress: 20\n",
        "Progress: 30"
       ]
      },
      {
       "output_type": "stream",
       "stream": "stdout",
       "text": [
        "\n",
        "Progress: 30\n",
        "Progress: 40"
       ]
      },
      {
       "output_type": "stream",
       "stream": "stdout",
       "text": [
        "\n",
        "Progress: 40\n",
        "Progress: 50"
       ]
      },
      {
       "output_type": "stream",
       "stream": "stdout",
       "text": [
        "\n",
        "Progress: 50\n",
        "Progress: 60"
       ]
      },
      {
       "output_type": "stream",
       "stream": "stdout",
       "text": [
        "\n",
        "Progress: 60\n",
        "Progress: 70"
       ]
      },
      {
       "output_type": "stream",
       "stream": "stdout",
       "text": [
        "\n",
        "Progress: 70\n",
        "Progress: 80"
       ]
      },
      {
       "output_type": "stream",
       "stream": "stdout",
       "text": [
        "\n",
        "Progress: 80\n",
        "Progress: 90"
       ]
      },
      {
       "output_type": "stream",
       "stream": "stdout",
       "text": [
        "\n",
        "Progress: 90\n",
        "Progress: 100"
       ]
      },
      {
       "output_type": "stream",
       "stream": "stdout",
       "text": [
        "\n",
        "Progress: 10\n",
        "Progress: 10\n",
        "Progress: 20\n",
        "Progress: 20\n",
        "Progress: 30"
       ]
      },
      {
       "output_type": "stream",
       "stream": "stdout",
       "text": [
        "\n",
        "Progress: 30\n",
        "Progress: 40"
       ]
      },
      {
       "output_type": "stream",
       "stream": "stdout",
       "text": [
        "\n",
        "Progress: 40\n",
        "Progress: 50"
       ]
      },
      {
       "output_type": "stream",
       "stream": "stdout",
       "text": [
        "\n",
        "Progress: 50\n",
        "Progress: 60"
       ]
      },
      {
       "output_type": "stream",
       "stream": "stdout",
       "text": [
        "\n",
        "Progress: 60\n",
        "Progress: 70"
       ]
      },
      {
       "output_type": "stream",
       "stream": "stdout",
       "text": [
        "\n",
        "Progress: 70\n",
        "Progress: 80"
       ]
      },
      {
       "output_type": "stream",
       "stream": "stdout",
       "text": [
        "\n",
        "Progress: 80\n",
        "Progress: 90"
       ]
      },
      {
       "output_type": "stream",
       "stream": "stdout",
       "text": [
        "\n",
        "Progress: 90\n",
        "Progress: 100"
       ]
      },
      {
       "output_type": "stream",
       "stream": "stdout",
       "text": [
        "\n",
        "Progress: 10\n",
        "Progress: 10\n",
        "Progress: 20"
       ]
      },
      {
       "output_type": "stream",
       "stream": "stdout",
       "text": [
        "\n",
        "Progress: 20\n",
        "Progress: 30"
       ]
      },
      {
       "output_type": "stream",
       "stream": "stdout",
       "text": [
        "\n",
        "Progress: 30\n",
        "Progress: 40"
       ]
      },
      {
       "output_type": "stream",
       "stream": "stdout",
       "text": [
        "\n",
        "Progress: 40\n",
        "Progress: 50"
       ]
      },
      {
       "output_type": "stream",
       "stream": "stdout",
       "text": [
        "\n",
        "Progress: 50\n",
        "Progress: 60"
       ]
      },
      {
       "output_type": "stream",
       "stream": "stdout",
       "text": [
        "\n",
        "Progress: 60\n",
        "Progress: 70"
       ]
      },
      {
       "output_type": "stream",
       "stream": "stdout",
       "text": [
        "\n",
        "Progress: 70\n",
        "Progress: 80"
       ]
      },
      {
       "output_type": "stream",
       "stream": "stdout",
       "text": [
        "\n",
        "Progress: 80\n",
        "Progress: 90"
       ]
      },
      {
       "output_type": "stream",
       "stream": "stdout",
       "text": [
        "\n",
        "Progress: 90\n",
        "Progress: 100"
       ]
      },
      {
       "output_type": "stream",
       "stream": "stdout",
       "text": [
        "\n",
        "Progress: 10\n",
        "Progress: 10\n",
        "Progress: 20\n",
        "Progress: 20\n",
        "Progress: 30\n",
        "Progress: 30"
       ]
      },
      {
       "output_type": "stream",
       "stream": "stdout",
       "text": [
        "\n",
        "Progress: 40"
       ]
      },
      {
       "output_type": "stream",
       "stream": "stdout",
       "text": [
        "\n",
        "Progress: 40\n",
        "Progress: 50"
       ]
      },
      {
       "output_type": "stream",
       "stream": "stdout",
       "text": [
        "\n",
        "Progress: 50\n",
        "Progress: 60"
       ]
      },
      {
       "output_type": "stream",
       "stream": "stdout",
       "text": [
        "\n",
        "Progress: 60\n",
        "Progress: 70"
       ]
      },
      {
       "output_type": "stream",
       "stream": "stdout",
       "text": [
        "\n",
        "Progress: 70\n",
        "Progress: 80"
       ]
      },
      {
       "output_type": "stream",
       "stream": "stdout",
       "text": [
        "\n",
        "Progress: 80\n",
        "Progress: 90"
       ]
      },
      {
       "output_type": "stream",
       "stream": "stdout",
       "text": [
        "\n",
        "Progress: 90\n",
        "Progress: 100"
       ]
      },
      {
       "output_type": "stream",
       "stream": "stdout",
       "text": [
        "\n"
       ]
      }
     ],
     "prompt_number": 7
    },
    {
     "cell_type": "code",
     "collapsed": false,
     "input": [
      "t = (2, 5)\n",
      "m = (3, 4)"
     ],
     "language": "python",
     "metadata": {},
     "outputs": [],
     "prompt_number": 8
    },
    {
     "cell_type": "code",
     "collapsed": false,
     "input": [
      "z = t + m"
     ],
     "language": "python",
     "metadata": {},
     "outputs": [],
     "prompt_number": 9
    },
    {
     "cell_type": "code",
     "collapsed": false,
     "input": [
      "z"
     ],
     "language": "python",
     "metadata": {},
     "outputs": [
      {
       "metadata": {},
       "output_type": "pyout",
       "prompt_number": 10,
       "text": [
        "(2, 5, 3, 4)"
       ]
      }
     ],
     "prompt_number": 10
    },
    {
     "cell_type": "code",
     "collapsed": false,
     "input": [],
     "language": "python",
     "metadata": {},
     "outputs": []
    }
   ],
   "metadata": {}
  }
 ]
}