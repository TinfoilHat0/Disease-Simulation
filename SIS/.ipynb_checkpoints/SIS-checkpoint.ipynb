{
 "metadata": {
  "name": ""
 },
 "nbformat": 3,
 "nbformat_minor": 0,
 "worksheets": [
  {
   "cells": [
    {
     "cell_type": "code",
     "collapsed": false,
     "input": [
      "from _NetworKit import Graph\n",
      "import random\n",
      "\n",
      "class SIS:\n",
      "    \"\"\" Implementation of the SIS simulation as defined in [Chakrabarti et al., 2008] \"\"\"\n",
      "    def __init__(self, G, beta, gamma, n0, t):\n",
      "        \"\"\"\n",
      "            G: Network\n",
      "            beta: Infect prob.\n",
      "            gamma: Cure prob.\n",
      "            n0: Initial # of the infected nodes\n",
      "            t: # of timesteps\n",
      "        \"\"\"\n",
      "        self.G = G\n",
      "        self.n0 = n0\n",
      "        self.size = G.numberOfNodes()\n",
      "        if self.n0 > self.size:\n",
      "            raise ValueError('Initial # of infected population must be smaller than networks size')\n",
      "        self.beta = beta\n",
      "        self.gamma = gamma\n",
      "        self.susceptible = []\n",
      "        self.infected = []\n",
      "        self.toInfect = []\n",
      "        self.log = []\n",
      "        self.t = t\n",
      "\n",
      "    def setup(self):\n",
      "        \"\"\" Sets up initial states for the nodes of the network \"\"\"\n",
      "        #0. Reset node states in case of multiple simulations are run using the same class\n",
      "        self.susceptible = []\n",
      "        self.infected = []\n",
      "        self.toInfect = []\n",
      "        #1. Set state of all nodes to susceptible\n",
      "        for n in range(0, self.size):\n",
      "            self.susceptible.append(n)\n",
      "        #2. Distribute initial infections to network randomly\n",
      "        count = 0\n",
      "        while count < n0:\n",
      "            r = random.randint(0, self.size-1)\n",
      "            if r in self.susceptible:\n",
      "                self.susceptible.remove(r)\n",
      "                self.infected.append(r)\n",
      "                count += 1\n",
      "\n",
      "    def run(self):\n",
      "        \"\"\" Runs a SIS simulation with on given network and with supplied parameters and returns the sim. log \"\"\"\n",
      "        #1. Set initial conditions for the network\n",
      "        self.setup()\n",
      "        nInfected = len(self.infected)\n",
      "        nSusceptible = len(self.susceptible)\n",
      "        self.log.append((0, nSusceptible, nInfected))\n",
      "        #2. Run simulation for t timesteps\n",
      "        for step in range(1, self.t+1):\n",
      "            #2.1 Each infected node spreads infection to its neighbors with beta prob.\n",
      "            for u in self.infected:\n",
      "                for v in self.G.neighbors(u):\n",
      "                    if v in self.susceptible and v not in self.toInfect:\n",
      "                        r = random.random()\n",
      "                        if r <= self.beta:\n",
      "                            self.toInfect.append(v)\n",
      "            #2.2 Update state of newly infected nodes\n",
      "            for v in self.toInfect:\n",
      "                self.infected.append(v)\n",
      "                self.susceptible.remove(v)\n",
      "            self.toInfect.clear()\n",
      "\n",
      "            #2.3 Cure infected nodes with gamma prob.\n",
      "            for u in self.infected:\n",
      "                r = random.random()\n",
      "                if r <= self.gamma:\n",
      "                    self.infected.remove(u)\n",
      "                    self.susceptible.append(u)\n",
      "\n",
      "            #2.4 Record # of susceptible and infected in log for this timestep\n",
      "            nInfected = len(self.infected)\n",
      "            nSusceptible = len(self.susceptible)\n",
      "            self.log.append((step, nSusceptible, nInfected))\n",
      "\n",
      "            #2.5 Print progress of simulation in every %10\n",
      "            progress = int((step/self.t)*100)\n",
      "            if progress >= 10 and progress % 10 == 0:\n",
      "                print('Progress: ' + str(progress))\n",
      "\n",
      "        return self.log\n"
     ],
     "language": "python",
     "metadata": {},
     "outputs": [],
     "prompt_number": 1
    },
    {
     "cell_type": "code",
     "collapsed": false,
     "input": [
      "import networkit as nt\n",
      "import random"
     ],
     "language": "python",
     "metadata": {},
     "outputs": [
      {
       "output_type": "stream",
       "stream": "stdout",
       "text": [
        " WARNING: module 'sklearn' not found, supervised link prediction won't be available \n"
       ]
      },
      {
       "output_type": "stream",
       "stream": "stderr",
       "text": [
        "/usr/local/lib/python3.4/dist-packages/matplotlib/backends/backend_gtk3agg.py:18: UserWarning: The Gtk3Agg backend is known to not work on Python 3.x with pycairo. Try installing cairocffi.\n",
        "  \"The Gtk3Agg backend is known to not work on Python 3.x with pycairo. \"\n"
       ]
      }
     ],
     "prompt_number": 2
    },
    {
     "cell_type": "code",
     "collapsed": false,
     "input": [
      "reader = nt.GraphMLIO.GraphMLReader()"
     ],
     "language": "python",
     "metadata": {},
     "outputs": [],
     "prompt_number": 3
    },
    {
     "cell_type": "code",
     "collapsed": false,
     "input": [
      "#G = reader.read('oregon1ML')\n",
      "G2 = nt.generators.ErdosRenyiGenerator(1000, 0.4).generate()"
     ],
     "language": "python",
     "metadata": {},
     "outputs": [],
     "prompt_number": 4
    },
    {
     "cell_type": "code",
     "collapsed": false,
     "input": [
      "(beta, gamma, n0, t) = (0.2, 0.48, 10, 200)"
     ],
     "language": "python",
     "metadata": {},
     "outputs": [],
     "prompt_number": 5
    },
    {
     "cell_type": "code",
     "collapsed": false,
     "input": [
      "sim = SIS(G2, beta, gamma, n0, t)"
     ],
     "language": "python",
     "metadata": {},
     "outputs": [],
     "prompt_number": 6
    },
    {
     "cell_type": "code",
     "collapsed": false,
     "input": [
      "sim.run()"
     ],
     "language": "python",
     "metadata": {},
     "outputs": [
      {
       "output_type": "stream",
       "stream": "stdout",
       "text": [
        "Progress: 10\n",
        "Progress: 10"
       ]
      },
      {
       "output_type": "stream",
       "stream": "stdout",
       "text": [
        "\n",
        "Progress: 20"
       ]
      },
      {
       "output_type": "stream",
       "stream": "stdout",
       "text": [
        "\n",
        "Progress: 20"
       ]
      },
      {
       "output_type": "stream",
       "stream": "stdout",
       "text": [
        "\n",
        "Progress: 30"
       ]
      },
      {
       "output_type": "stream",
       "stream": "stdout",
       "text": [
        "\n",
        "Progress: 30"
       ]
      },
      {
       "output_type": "stream",
       "stream": "stdout",
       "text": [
        "\n",
        "Progress: 40"
       ]
      },
      {
       "output_type": "stream",
       "stream": "stdout",
       "text": [
        "\n",
        "Progress: 40"
       ]
      },
      {
       "output_type": "stream",
       "stream": "stdout",
       "text": [
        "\n",
        "Progress: 50"
       ]
      },
      {
       "output_type": "stream",
       "stream": "stdout",
       "text": [
        "\n",
        "Progress: 50"
       ]
      },
      {
       "output_type": "stream",
       "stream": "stdout",
       "text": [
        "\n",
        "Progress: 60"
       ]
      },
      {
       "output_type": "stream",
       "stream": "stdout",
       "text": [
        "\n",
        "Progress: 60"
       ]
      },
      {
       "output_type": "stream",
       "stream": "stdout",
       "text": [
        "\n",
        "Progress: 70"
       ]
      },
      {
       "output_type": "stream",
       "stream": "stdout",
       "text": [
        "\n",
        "Progress: 70"
       ]
      },
      {
       "output_type": "stream",
       "stream": "stdout",
       "text": [
        "\n",
        "Progress: 80"
       ]
      },
      {
       "output_type": "stream",
       "stream": "stdout",
       "text": [
        "\n",
        "Progress: 80"
       ]
      },
      {
       "output_type": "stream",
       "stream": "stdout",
       "text": [
        "\n",
        "Progress: 90"
       ]
      },
      {
       "output_type": "stream",
       "stream": "stdout",
       "text": [
        "\n",
        "Progress: 90"
       ]
      },
      {
       "output_type": "stream",
       "stream": "stdout",
       "text": [
        "\n",
        "Progress: 100"
       ]
      },
      {
       "output_type": "stream",
       "stream": "stdout",
       "text": [
        "\n"
       ]
      },
      {
       "metadata": {},
       "output_type": "pyout",
       "prompt_number": 7,
       "text": [
        "[(0, 990, 10),\n",
        " (1, 519, 481),\n",
        " (2, 191, 809),\n",
        " (3, 194, 806),\n",
        " (4, 200, 800),\n",
        " (5, 192, 808),\n",
        " (6, 194, 806),\n",
        " (7, 184, 816),\n",
        " (8, 195, 805),\n",
        " (9, 182, 818),\n",
        " (10, 192, 808),\n",
        " (11, 187, 813),\n",
        " (12, 192, 808),\n",
        " (13, 179, 821),\n",
        " (14, 201, 799),\n",
        " (15, 181, 819),\n",
        " (16, 193, 807),\n",
        " (17, 176, 824),\n",
        " (18, 200, 800),\n",
        " (19, 199, 801),\n",
        " (20, 174, 826),\n",
        " (21, 195, 805),\n",
        " (22, 208, 792),\n",
        " (23, 194, 806),\n",
        " (24, 206, 794),\n",
        " (25, 193, 807),\n",
        " (26, 197, 803),\n",
        " (27, 190, 810),\n",
        " (28, 198, 802),\n",
        " (29, 187, 813),\n",
        " (30, 187, 813),\n",
        " (31, 205, 795),\n",
        " (32, 191, 809),\n",
        " (33, 190, 810),\n",
        " (34, 189, 811),\n",
        " (35, 191, 809),\n",
        " (36, 218, 782),\n",
        " (37, 192, 808),\n",
        " (38, 193, 807),\n",
        " (39, 207, 793),\n",
        " (40, 189, 811),\n",
        " (41, 193, 807),\n",
        " (42, 190, 810),\n",
        " (43, 196, 804),\n",
        " (44, 203, 797),\n",
        " (45, 172, 828),\n",
        " (46, 193, 807),\n",
        " (47, 196, 804),\n",
        " (48, 189, 811),\n",
        " (49, 190, 810),\n",
        " (50, 188, 812),\n",
        " (51, 206, 794),\n",
        " (52, 197, 803),\n",
        " (53, 190, 810),\n",
        " (54, 192, 808),\n",
        " (55, 188, 812),\n",
        " (56, 196, 804),\n",
        " (57, 191, 809),\n",
        " (58, 194, 806),\n",
        " (59, 205, 795),\n",
        " (60, 194, 806),\n",
        " (61, 206, 794),\n",
        " (62, 193, 807),\n",
        " (63, 212, 788),\n",
        " (64, 204, 796),\n",
        " (65, 195, 805),\n",
        " (66, 187, 813),\n",
        " (67, 186, 814),\n",
        " (68, 185, 815),\n",
        " (69, 185, 815),\n",
        " (70, 186, 814),\n",
        " (71, 204, 796),\n",
        " (72, 184, 816),\n",
        " (73, 192, 808),\n",
        " (74, 200, 800),\n",
        " (75, 183, 817),\n",
        " (76, 187, 813),\n",
        " (77, 167, 833),\n",
        " (78, 196, 804),\n",
        " (79, 202, 798),\n",
        " (80, 200, 800),\n",
        " (81, 209, 791),\n",
        " (82, 195, 805),\n",
        " (83, 191, 809),\n",
        " (84, 183, 817),\n",
        " (85, 191, 809),\n",
        " (86, 181, 819),\n",
        " (87, 178, 822),\n",
        " (88, 177, 823),\n",
        " (89, 203, 797),\n",
        " (90, 199, 801),\n",
        " (91, 204, 796),\n",
        " (92, 203, 797),\n",
        " (93, 192, 808),\n",
        " (94, 193, 807),\n",
        " (95, 190, 810),\n",
        " (96, 192, 808),\n",
        " (97, 189, 811),\n",
        " (98, 189, 811),\n",
        " (99, 211, 789),\n",
        " (100, 199, 801),\n",
        " (101, 178, 822),\n",
        " (102, 203, 797),\n",
        " (103, 195, 805),\n",
        " (104, 194, 806),\n",
        " (105, 183, 817),\n",
        " (106, 194, 806),\n",
        " (107, 186, 814),\n",
        " (108, 188, 812),\n",
        " (109, 188, 812),\n",
        " (110, 193, 807),\n",
        " (111, 190, 810),\n",
        " (112, 180, 820),\n",
        " (113, 196, 804),\n",
        " (114, 167, 833),\n",
        " (115, 199, 801),\n",
        " (116, 203, 797),\n",
        " (117, 203, 797),\n",
        " (118, 172, 828),\n",
        " (119, 206, 794),\n",
        " (120, 202, 798),\n",
        " (121, 184, 816),\n",
        " (122, 187, 813),\n",
        " (123, 192, 808),\n",
        " (124, 194, 806),\n",
        " (125, 186, 814),\n",
        " (126, 214, 786),\n",
        " (127, 205, 795),\n",
        " (128, 199, 801),\n",
        " (129, 206, 794),\n",
        " (130, 195, 805),\n",
        " (131, 198, 802),\n",
        " (132, 205, 795),\n",
        " (133, 195, 805),\n",
        " (134, 181, 819),\n",
        " (135, 191, 809),\n",
        " (136, 186, 814),\n",
        " (137, 203, 797),\n",
        " (138, 192, 808),\n",
        " (139, 195, 805),\n",
        " (140, 179, 821),\n",
        " (141, 192, 808),\n",
        " (142, 194, 806),\n",
        " (143, 202, 798),\n",
        " (144, 177, 823),\n",
        " (145, 196, 804),\n",
        " (146, 196, 804),\n",
        " (147, 191, 809),\n",
        " (148, 189, 811),\n",
        " (149, 189, 811),\n",
        " (150, 192, 808),\n",
        " (151, 198, 802),\n",
        " (152, 184, 816),\n",
        " (153, 187, 813),\n",
        " (154, 184, 816),\n",
        " (155, 209, 791),\n",
        " (156, 180, 820),\n",
        " (157, 195, 805),\n",
        " (158, 195, 805),\n",
        " (159, 196, 804),\n",
        " (160, 199, 801),\n",
        " (161, 176, 824),\n",
        " (162, 192, 808),\n",
        " (163, 204, 796),\n",
        " (164, 190, 810),\n",
        " (165, 191, 809),\n",
        " (166, 183, 817),\n",
        " (167, 201, 799),\n",
        " (168, 182, 818),\n",
        " (169, 196, 804),\n",
        " (170, 209, 791),\n",
        " (171, 198, 802),\n",
        " (172, 197, 803),\n",
        " (173, 203, 797),\n",
        " (174, 217, 783),\n",
        " (175, 204, 796),\n",
        " (176, 197, 803),\n",
        " (177, 196, 804),\n",
        " (178, 187, 813),\n",
        " (179, 185, 815),\n",
        " (180, 188, 812),\n",
        " (181, 187, 813),\n",
        " (182, 187, 813),\n",
        " (183, 201, 799),\n",
        " (184, 192, 808),\n",
        " (185, 196, 804),\n",
        " (186, 191, 809),\n",
        " (187, 186, 814),\n",
        " (188, 186, 814),\n",
        " (189, 205, 795),\n",
        " (190, 200, 800),\n",
        " (191, 205, 795),\n",
        " (192, 188, 812),\n",
        " (193, 186, 814),\n",
        " (194, 206, 794),\n",
        " (195, 186, 814),\n",
        " (196, 210, 790),\n",
        " (197, 196, 804),\n",
        " (198, 194, 806),\n",
        " (199, 191, 809),\n",
        " (200, 196, 804)]"
       ]
      }
     ],
     "prompt_number": 7
    },
    {
     "cell_type": "code",
     "collapsed": false,
     "input": [],
     "language": "python",
     "metadata": {},
     "outputs": []
    }
   ],
   "metadata": {}
  }
 ]
}