{
 "metadata": {
  "name": ""
 },
 "nbformat": 3,
 "nbformat_minor": 0,
 "worksheets": [
  {
   "cells": [
    {
     "cell_type": "code",
     "collapsed": false,
     "input": [
      "import networkit as nt\n",
      "import os"
     ],
     "language": "python",
     "metadata": {},
     "outputs": [
      {
       "output_type": "stream",
       "stream": "stdout",
       "text": [
        " WARNING: module 'sklearn' not found, supervised link prediction won't be available \n"
       ]
      },
      {
       "output_type": "stream",
       "stream": "stderr",
       "text": [
        "/usr/local/lib/python3.4/dist-packages/matplotlib/backends/backend_gtk3agg.py:18: UserWarning: The Gtk3Agg backend is known to not work on Python 3.x with pycairo. Try installing cairocffi.\n",
        "  \"The Gtk3Agg backend is known to not work on Python 3.x with pycairo. \"\n"
       ]
      }
     ],
     "prompt_number": 2
    },
    {
     "cell_type": "code",
     "collapsed": false,
     "input": [
      "from _NetworKit import Graph\n",
      "import matplotlib.pyplot as plt\n",
      "import numpy as np\n",
      "\n",
      "class SIS:\n",
      "    \"\"\" Implementation of the SIS simulation \"\"\"\n",
      "    def __init__(self, G, beta, gamma, n0, t):\n",
      "        \"\"\"\n",
      "            G: Network\n",
      "            beta: Infect prob.\n",
      "            gamma: Cure prob.\n",
      "            n0: Initial # of the infected nodes\n",
      "            t: # of timesteps\n",
      "        \"\"\"\n",
      "        self.G = G\n",
      "        self.n0 = int(n0)\n",
      "        self.size = G.numberOfNodes()\n",
      "        if self.n0 > self.size:\n",
      "            raise ValueError('Initial # of infected population must be smaller than networks size')\n",
      "        self.beta = beta\n",
      "        self.gamma = gamma\n",
      "        self.susceptible = []\n",
      "        self.infected = []\n",
      "        self.toInfect = []\n",
      "        self.log = []\n",
      "        self.t = t\n",
      "\n",
      "    def setup(self):\n",
      "        \"\"\" Sets up initial states for the nodes of the network \"\"\"\n",
      "        #0. Reset node states in case of multiple simulations are run using the same class\n",
      "        self.susceptible = []\n",
      "        self.infected = []\n",
      "        self.toInfect = []\n",
      "        self.log = []\n",
      "        #1. Set state of all nodes to susceptible\n",
      "        for n in range(0, self.size):\n",
      "            self.susceptible.append(n)\n",
      "        #2. Distribute initial infections to network randomly\n",
      "        count = 0\n",
      "        while count < self.n0:\n",
      "            r = np.random.random_integers(low=0, high=self.size-1)\n",
      "            if r in self.susceptible:\n",
      "                self.susceptible.remove(r)\n",
      "                self.infected.append(r)\n",
      "                count += 1\n",
      "        self.log.append((0, self.size - self.n0, self.n0))\n",
      "\n",
      "    def run(self, filename):\n",
      "        \"\"\" Runs a SIS simulation on given network and with supplied parameters and returns the sim. log \"\"\"\n",
      "        #1. Set initial conditions for the network\n",
      "        self.setup()\n",
      "        #2. Run simulation for t timesteps\n",
      "        for step in range(1, self.t+1):\n",
      "            #2.1 Each infected node spreads infection to its neighbors with beta prob.\n",
      "            for u in self.infected:\n",
      "                for v in self.G.neighbors(u):\n",
      "                    if v not in self.toInfect:\n",
      "                        r = np.random.random_sample()\n",
      "                        if r < self.beta:\n",
      "                            self.toInfect.append(v)\n",
      "            #2.2 Update state of newly infected nodes\n",
      "            for v in self.toInfect:\n",
      "                if v in self.susceptible:\n",
      "                    self.infected.append(v)\n",
      "                    self.susceptible.remove(v)\n",
      "            #2.3 Cure infected nodes with gamma prob.\n",
      "            for u in self.infected:\n",
      "                r = np.random.random_sample()\n",
      "                if r < self.gamma:\n",
      "                    self.infected.remove(u)\n",
      "                    self.susceptible.append(u)\n",
      "            self.toInfect = []\n",
      "            #2.4 Record # of susceptible and infected in log for this timestep\n",
      "            nInfected = len(self.infected)\n",
      "            nSusceptible = len(self.susceptible)\n",
      "            self.log.append((step, nSusceptible, nInfected))\n",
      "            #2.5 Print progress of simulation in every %10\n",
      "            progress = (step/self.t)*100\n",
      "            if progress >= 10 and progress % 10 == 0:\n",
      "                print('Progress: ' + str(progress))\n",
      "\n",
      "        self.saveResults(filename)\n",
      "        return self.log\n",
      "\n",
      "    def saveResults(self, filename):\n",
      "        \"\"\" Saves result of simulation \"\"\"\n",
      "        file = open(filename,'w')\n",
      "        file.write(\"# Beta: \" + str(self.beta) + \" Gamma: \" + str(self.gamma) +\"\\n\")\n",
      "        file.write(\"# Timestep,\" + \"N(S),\" + \"N(I)\" + \"\\n\")\n",
      "        for item in self.log:\n",
      "            file.write(str(item[0]) + \",\" + str(item[1]) + \",\" + str(item[2]) + \"\\n\")\n"
     ],
     "language": "python",
     "metadata": {},
     "outputs": [],
     "prompt_number": 3
    },
    {
     "cell_type": "code",
     "collapsed": false,
     "input": [
      "#Build the network&get eigenvectors/values\n",
      "G = nt.generators.ErdosRenyiGenerator(10**3, 0.04).generate()\n",
      "vectors = nt.algebraic.adjacencyEigenvectors(G)"
     ],
     "language": "python",
     "metadata": {},
     "outputs": [],
     "prompt_number": 4
    },
    {
     "cell_type": "code",
     "collapsed": false,
     "input": [
      "#Network properties\n",
      "N = G.numberOfNodes()\n",
      "k = nt.properties.GraphProperties.averageDegree(G)\n",
      "epThreshold = 1/max(vectors[0])\n",
      "print(epThreshold, 1/k)"
     ],
     "language": "python",
     "metadata": {},
     "outputs": [
      {
       "output_type": "stream",
       "stream": "stdout",
       "text": [
        "0.024675872345 0.025244875290316066\n"
       ]
      }
     ],
     "prompt_number": 5
    },
    {
     "cell_type": "code",
     "collapsed": false,
     "input": [
      "#Simulation parameters\n",
      "fractions, betas = [-2, -3, -5, -10, float(\"inf\"), 10, 5, 2, 1, 0.5], []\n",
      "for fraction in fractions:\n",
      "    betas.append(round(epThreshold + epThreshold/fraction, 4))\n",
      "(gamma, n0, t) = (1, N*0.05, 200)    \n",
      "print(betas)"
     ],
     "language": "python",
     "metadata": {},
     "outputs": [
      {
       "output_type": "stream",
       "stream": "stdout",
       "text": [
        "[0.0123, 0.016500000000000001, 0.019699999999999999, 0.022200000000000001, 0.0247, 0.027099999999999999, 0.029600000000000001, 0.036999999999999998, 0.049399999999999999, 0.073999999999999996]\n"
       ]
      }
     ],
     "prompt_number": 10
    },
    {
     "cell_type": "code",
     "collapsed": false,
     "input": [
      "#Run simulation\n",
      "for beta in betas:\n",
      "    folderName = 'results/prevalence/ER/ER-2/' + str(beta) +'/'\n",
      "    if not os.path.exists(folderName):\n",
      "        os.makedirs(folderName)   \n",
      "    sim = SIS(G, beta, gamma, n0, t)\n",
      "    for i in range(0, 5):\n",
      "        fileName = folderName + 'run' + str(i) + '.txt'\n",
      "        sim.run(fileName) \n",
      "      \n",
      "        "
     ],
     "language": "python",
     "metadata": {},
     "outputs": [
      {
       "output_type": "stream",
       "stream": "stdout",
       "text": [
        "Progress: 10.0\n",
        "Progress: 20.0\n",
        "Progress: 30.0\n",
        "Progress: 40.0\n",
        "Progress: 50.0\n",
        "Progress: 60.0\n",
        "Progress: 70.0\n",
        "Progress: 80.0\n",
        "Progress: 90.0\n",
        "Progress: 100.0\n",
        "Progress: 10.0\n",
        "Progress: 20.0\n",
        "Progress: 30.0\n",
        "Progress: 40.0\n",
        "Progress: 50.0\n",
        "Progress: 60.0\n",
        "Progress: 70.0\n",
        "Progress: 80.0\n",
        "Progress: 90.0\n",
        "Progress: 100.0\n",
        "Progress: 10.0\n",
        "Progress: 20.0\n",
        "Progress: 30.0\n",
        "Progress: 40.0\n",
        "Progress: 50.0\n",
        "Progress: 60.0\n",
        "Progress: 70.0\n",
        "Progress: 80.0\n",
        "Progress: 90.0\n",
        "Progress: 100.0\n",
        "Progress: 10.0"
       ]
      },
      {
       "output_type": "stream",
       "stream": "stdout",
       "text": [
        "\n",
        "Progress: 20.0\n",
        "Progress: 30.0\n",
        "Progress: 40.0\n",
        "Progress: 50.0\n",
        "Progress: 60.0\n",
        "Progress: 70.0\n",
        "Progress: 80.0\n",
        "Progress: 90.0\n",
        "Progress: 100.0\n",
        "Progress: 10.0\n",
        "Progress: 20.0\n",
        "Progress: 30.0\n",
        "Progress: 40.0\n",
        "Progress: 50.0\n",
        "Progress: 60.0\n",
        "Progress: 70.0\n",
        "Progress: 80.0\n",
        "Progress: 90.0\n",
        "Progress: 100.0\n",
        "Progress: 10.0"
       ]
      },
      {
       "output_type": "stream",
       "stream": "stdout",
       "text": [
        "\n",
        "Progress: 20.0\n",
        "Progress: 30.0\n",
        "Progress: 40.0\n",
        "Progress: 50.0\n",
        "Progress: 60.0\n",
        "Progress: 70.0\n",
        "Progress: 80.0\n",
        "Progress: 90.0\n",
        "Progress: 100.0\n",
        "Progress: 10.0\n",
        "Progress: 20.0\n",
        "Progress: 30.0\n",
        "Progress: 40.0\n",
        "Progress: 50.0\n",
        "Progress: 60.0\n",
        "Progress: 70.0\n",
        "Progress: 80.0\n",
        "Progress: 90.0\n",
        "Progress: 100.0\n",
        "Progress: 10.0"
       ]
      },
      {
       "output_type": "stream",
       "stream": "stdout",
       "text": [
        "\n",
        "Progress: 20.0\n",
        "Progress: 30.0\n",
        "Progress: 40.0\n",
        "Progress: 50.0\n",
        "Progress: 60.0\n",
        "Progress: 70.0\n",
        "Progress: 80.0\n",
        "Progress: 90.0\n",
        "Progress: 100.0\n",
        "Progress: 10.0\n",
        "Progress: 20.0\n",
        "Progress: 30.0\n",
        "Progress: 40.0\n",
        "Progress: 50.0\n",
        "Progress: 60.0\n",
        "Progress: 70.0\n",
        "Progress: 80.0\n",
        "Progress: 90.0\n",
        "Progress: 100.0\n",
        "Progress: 10.0"
       ]
      },
      {
       "output_type": "stream",
       "stream": "stdout",
       "text": [
        "\n",
        "Progress: 20.0\n",
        "Progress: 30.0\n",
        "Progress: 40.0\n",
        "Progress: 50.0\n",
        "Progress: 60.0\n",
        "Progress: 70.0\n",
        "Progress: 80.0\n",
        "Progress: 90.0\n",
        "Progress: 100.0\n",
        "Progress: 10.0"
       ]
      },
      {
       "output_type": "stream",
       "stream": "stdout",
       "text": [
        "\n",
        "Progress: 20.0\n",
        "Progress: 30.0\n",
        "Progress: 40.0\n",
        "Progress: 50.0\n",
        "Progress: 60.0\n",
        "Progress: 70.0\n",
        "Progress: 80.0\n",
        "Progress: 90.0\n",
        "Progress: 100.0\n",
        "Progress: 10.0"
       ]
      },
      {
       "output_type": "stream",
       "stream": "stdout",
       "text": [
        "\n",
        "Progress: 20.0\n",
        "Progress: 30.0\n",
        "Progress: 40.0\n",
        "Progress: 50.0\n",
        "Progress: 60.0\n",
        "Progress: 70.0\n",
        "Progress: 80.0\n",
        "Progress: 90.0\n",
        "Progress: 100.0\n",
        "Progress: 10.0"
       ]
      },
      {
       "output_type": "stream",
       "stream": "stdout",
       "text": [
        "\n",
        "Progress: 20.0\n",
        "Progress: 30.0\n",
        "Progress: 40.0\n",
        "Progress: 50.0\n",
        "Progress: 60.0\n",
        "Progress: 70.0\n",
        "Progress: 80.0\n",
        "Progress: 90.0\n",
        "Progress: 100.0\n",
        "Progress: 10.0\n",
        "Progress: 20.0\n",
        "Progress: 30.0\n",
        "Progress: 40.0\n",
        "Progress: 50.0\n",
        "Progress: 60.0\n",
        "Progress: 70.0\n",
        "Progress: 80.0\n",
        "Progress: 90.0\n",
        "Progress: 100.0\n",
        "Progress: 10.0"
       ]
      },
      {
       "output_type": "stream",
       "stream": "stdout",
       "text": [
        "\n",
        "Progress: 20.0\n",
        "Progress: 30.0\n",
        "Progress: 40.0\n",
        "Progress: 50.0\n",
        "Progress: 60.0\n",
        "Progress: 70.0\n",
        "Progress: 80.0\n",
        "Progress: 90.0\n",
        "Progress: 100.0\n",
        "Progress: 10.0"
       ]
      },
      {
       "output_type": "stream",
       "stream": "stdout",
       "text": [
        "\n",
        "Progress: 20.0\n",
        "Progress: 30.0\n",
        "Progress: 40.0\n",
        "Progress: 50.0\n",
        "Progress: 60.0\n",
        "Progress: 70.0\n",
        "Progress: 80.0\n",
        "Progress: 90.0\n",
        "Progress: 100.0\n",
        "Progress: 10.0"
       ]
      },
      {
       "output_type": "stream",
       "stream": "stdout",
       "text": [
        "\n",
        "Progress: 20.0\n",
        "Progress: 30.0\n",
        "Progress: 40.0\n",
        "Progress: 50.0\n",
        "Progress: 60.0\n",
        "Progress: 70.0\n",
        "Progress: 80.0\n",
        "Progress: 90.0\n",
        "Progress: 100.0\n",
        "Progress: 10.0"
       ]
      },
      {
       "output_type": "stream",
       "stream": "stdout",
       "text": [
        "\n",
        "Progress: 20.0\n",
        "Progress: 30.0\n",
        "Progress: 40.0\n",
        "Progress: 50.0\n",
        "Progress: 60.0\n",
        "Progress: 70.0\n",
        "Progress: 80.0\n",
        "Progress: 90.0\n",
        "Progress: 100.0\n",
        "Progress: 10.0"
       ]
      },
      {
       "output_type": "stream",
       "stream": "stdout",
       "text": [
        "\n",
        "Progress: 20.0\n",
        "Progress: 30.0\n",
        "Progress: 40.0\n",
        "Progress: 50.0\n",
        "Progress: 60.0\n",
        "Progress: 70.0\n",
        "Progress: 80.0\n",
        "Progress: 90.0\n",
        "Progress: 100.0\n",
        "Progress: 10.0"
       ]
      },
      {
       "output_type": "stream",
       "stream": "stdout",
       "text": [
        "\n",
        "Progress: 20.0\n",
        "Progress: 30.0\n",
        "Progress: 40.0\n",
        "Progress: 50.0\n",
        "Progress: 60.0\n",
        "Progress: 70.0\n",
        "Progress: 80.0\n",
        "Progress: 90.0\n",
        "Progress: 100.0\n",
        "Progress: 10.0"
       ]
      },
      {
       "output_type": "stream",
       "stream": "stdout",
       "text": [
        "\n",
        "Progress: 20.0"
       ]
      },
      {
       "output_type": "stream",
       "stream": "stdout",
       "text": [
        "\n",
        "Progress: 30.0\n",
        "Progress: 40.0\n",
        "Progress: 50.0\n",
        "Progress: 60.0\n",
        "Progress: 70.0\n",
        "Progress: 80.0\n",
        "Progress: 90.0\n",
        "Progress: 100.0\n",
        "Progress: 10.0"
       ]
      },
      {
       "output_type": "stream",
       "stream": "stdout",
       "text": [
        "\n",
        "Progress: 20.0\n",
        "Progress: 30.0\n",
        "Progress: 40.0\n",
        "Progress: 50.0\n",
        "Progress: 60.0\n",
        "Progress: 70.0\n",
        "Progress: 80.0\n",
        "Progress: 90.0\n",
        "Progress: 100.0\n",
        "Progress: 10.0"
       ]
      },
      {
       "output_type": "stream",
       "stream": "stdout",
       "text": [
        "\n",
        "Progress: 20.0\n",
        "Progress: 30.0\n",
        "Progress: 40.0\n",
        "Progress: 50.0\n",
        "Progress: 60.0\n",
        "Progress: 70.0\n",
        "Progress: 80.0\n",
        "Progress: 90.0\n",
        "Progress: 100.0\n",
        "Progress: 10.0"
       ]
      },
      {
       "output_type": "stream",
       "stream": "stdout",
       "text": [
        "\n",
        "Progress: 20.0\n",
        "Progress: 30.0"
       ]
      },
      {
       "output_type": "stream",
       "stream": "stdout",
       "text": [
        "\n",
        "Progress: 40.0\n",
        "Progress: 50.0\n",
        "Progress: 60.0\n",
        "Progress: 70.0\n",
        "Progress: 80.0\n",
        "Progress: 90.0\n",
        "Progress: 100.0\n",
        "Progress: 10.0"
       ]
      },
      {
       "output_type": "stream",
       "stream": "stdout",
       "text": [
        "\n",
        "Progress: 20.0\n",
        "Progress: 30.0\n",
        "Progress: 40.0\n",
        "Progress: 50.0\n",
        "Progress: 60.0\n",
        "Progress: 70.0\n",
        "Progress: 80.0\n",
        "Progress: 90.0\n",
        "Progress: 100.0\n",
        "Progress: 10.0"
       ]
      },
      {
       "output_type": "stream",
       "stream": "stdout",
       "text": [
        "\n",
        "Progress: 20.0"
       ]
      },
      {
       "output_type": "stream",
       "stream": "stdout",
       "text": [
        "\n",
        "Progress: 30.0"
       ]
      },
      {
       "output_type": "stream",
       "stream": "stdout",
       "text": [
        "\n",
        "Progress: 40.0"
       ]
      },
      {
       "output_type": "stream",
       "stream": "stdout",
       "text": [
        "\n",
        "Progress: 50.0"
       ]
      },
      {
       "output_type": "stream",
       "stream": "stdout",
       "text": [
        "\n",
        "Progress: 60.0"
       ]
      },
      {
       "output_type": "stream",
       "stream": "stdout",
       "text": [
        "\n",
        "Progress: 70.0"
       ]
      },
      {
       "output_type": "stream",
       "stream": "stdout",
       "text": [
        "\n",
        "Progress: 80.0"
       ]
      },
      {
       "output_type": "stream",
       "stream": "stdout",
       "text": [
        "\n",
        "Progress: 90.0"
       ]
      },
      {
       "output_type": "stream",
       "stream": "stdout",
       "text": [
        "\n",
        "Progress: 100.0"
       ]
      },
      {
       "output_type": "stream",
       "stream": "stdout",
       "text": [
        "\n",
        "Progress: 10.0"
       ]
      },
      {
       "output_type": "stream",
       "stream": "stdout",
       "text": [
        "\n",
        "Progress: 20.0"
       ]
      },
      {
       "output_type": "stream",
       "stream": "stdout",
       "text": [
        "\n",
        "Progress: 30.0"
       ]
      },
      {
       "output_type": "stream",
       "stream": "stdout",
       "text": [
        "\n",
        "Progress: 40.0"
       ]
      },
      {
       "output_type": "stream",
       "stream": "stdout",
       "text": [
        "\n",
        "Progress: 50.0\n",
        "Progress: 60.0\n",
        "Progress: 70.0\n",
        "Progress: 80.0\n",
        "Progress: 90.0\n",
        "Progress: 100.0\n",
        "Progress: 10.0"
       ]
      },
      {
       "output_type": "stream",
       "stream": "stdout",
       "text": [
        "\n",
        "Progress: 20.0"
       ]
      },
      {
       "output_type": "stream",
       "stream": "stdout",
       "text": [
        "\n",
        "Progress: 30.0"
       ]
      },
      {
       "output_type": "stream",
       "stream": "stdout",
       "text": [
        "\n",
        "Progress: 40.0"
       ]
      },
      {
       "output_type": "stream",
       "stream": "stdout",
       "text": [
        "\n",
        "Progress: 50.0"
       ]
      },
      {
       "output_type": "stream",
       "stream": "stdout",
       "text": [
        "\n",
        "Progress: 60.0"
       ]
      },
      {
       "output_type": "stream",
       "stream": "stdout",
       "text": [
        "\n",
        "Progress: 70.0"
       ]
      },
      {
       "output_type": "stream",
       "stream": "stdout",
       "text": [
        "\n",
        "Progress: 80.0"
       ]
      },
      {
       "output_type": "stream",
       "stream": "stdout",
       "text": [
        "\n",
        "Progress: 90.0"
       ]
      },
      {
       "output_type": "stream",
       "stream": "stdout",
       "text": [
        "\n",
        "Progress: 100.0"
       ]
      },
      {
       "output_type": "stream",
       "stream": "stdout",
       "text": [
        "\n",
        "Progress: 10.0"
       ]
      },
      {
       "output_type": "stream",
       "stream": "stdout",
       "text": [
        "\n",
        "Progress: 20.0"
       ]
      },
      {
       "output_type": "stream",
       "stream": "stdout",
       "text": [
        "\n",
        "Progress: 30.0"
       ]
      },
      {
       "output_type": "stream",
       "stream": "stdout",
       "text": [
        "\n",
        "Progress: 40.0"
       ]
      },
      {
       "output_type": "stream",
       "stream": "stdout",
       "text": [
        "\n",
        "Progress: 50.0"
       ]
      },
      {
       "output_type": "stream",
       "stream": "stdout",
       "text": [
        "\n",
        "Progress: 60.0"
       ]
      },
      {
       "output_type": "stream",
       "stream": "stdout",
       "text": [
        "\n",
        "Progress: 70.0"
       ]
      },
      {
       "output_type": "stream",
       "stream": "stdout",
       "text": [
        "\n",
        "Progress: 80.0"
       ]
      },
      {
       "output_type": "stream",
       "stream": "stdout",
       "text": [
        "\n",
        "Progress: 90.0"
       ]
      },
      {
       "output_type": "stream",
       "stream": "stdout",
       "text": [
        "\n",
        "Progress: 100.0"
       ]
      },
      {
       "output_type": "stream",
       "stream": "stdout",
       "text": [
        "\n",
        "Progress: 10.0"
       ]
      },
      {
       "output_type": "stream",
       "stream": "stdout",
       "text": [
        "\n",
        "Progress: 20.0"
       ]
      },
      {
       "output_type": "stream",
       "stream": "stdout",
       "text": [
        "\n",
        "Progress: 30.0"
       ]
      },
      {
       "output_type": "stream",
       "stream": "stdout",
       "text": [
        "\n",
        "Progress: 40.0"
       ]
      },
      {
       "output_type": "stream",
       "stream": "stdout",
       "text": [
        "\n",
        "Progress: 50.0"
       ]
      },
      {
       "output_type": "stream",
       "stream": "stdout",
       "text": [
        "\n",
        "Progress: 60.0"
       ]
      },
      {
       "output_type": "stream",
       "stream": "stdout",
       "text": [
        "\n",
        "Progress: 70.0"
       ]
      },
      {
       "output_type": "stream",
       "stream": "stdout",
       "text": [
        "\n",
        "Progress: 80.0"
       ]
      },
      {
       "output_type": "stream",
       "stream": "stdout",
       "text": [
        "\n",
        "Progress: 90.0"
       ]
      },
      {
       "output_type": "stream",
       "stream": "stdout",
       "text": [
        "\n",
        "Progress: 100.0"
       ]
      },
      {
       "output_type": "stream",
       "stream": "stdout",
       "text": [
        "\n",
        "Progress: 10.0"
       ]
      },
      {
       "output_type": "stream",
       "stream": "stdout",
       "text": [
        "\n",
        "Progress: 20.0"
       ]
      },
      {
       "output_type": "stream",
       "stream": "stdout",
       "text": [
        "\n",
        "Progress: 30.0"
       ]
      },
      {
       "output_type": "stream",
       "stream": "stdout",
       "text": [
        "\n",
        "Progress: 40.0"
       ]
      },
      {
       "output_type": "stream",
       "stream": "stdout",
       "text": [
        "\n",
        "Progress: 50.0"
       ]
      },
      {
       "output_type": "stream",
       "stream": "stdout",
       "text": [
        "\n",
        "Progress: 60.0"
       ]
      },
      {
       "output_type": "stream",
       "stream": "stdout",
       "text": [
        "\n",
        "Progress: 70.0"
       ]
      },
      {
       "output_type": "stream",
       "stream": "stdout",
       "text": [
        "\n",
        "Progress: 80.0"
       ]
      },
      {
       "output_type": "stream",
       "stream": "stdout",
       "text": [
        "\n",
        "Progress: 90.0"
       ]
      },
      {
       "output_type": "stream",
       "stream": "stdout",
       "text": [
        "\n",
        "Progress: 100.0"
       ]
      },
      {
       "output_type": "stream",
       "stream": "stdout",
       "text": [
        "\n",
        "Progress: 10.0"
       ]
      },
      {
       "output_type": "stream",
       "stream": "stdout",
       "text": [
        "\n",
        "Progress: 20.0"
       ]
      },
      {
       "output_type": "stream",
       "stream": "stdout",
       "text": [
        "\n",
        "Progress: 30.0"
       ]
      },
      {
       "output_type": "stream",
       "stream": "stdout",
       "text": [
        "\n",
        "Progress: 40.0"
       ]
      },
      {
       "output_type": "stream",
       "stream": "stdout",
       "text": [
        "\n",
        "Progress: 50.0"
       ]
      },
      {
       "output_type": "stream",
       "stream": "stdout",
       "text": [
        "\n",
        "Progress: 60.0"
       ]
      },
      {
       "output_type": "stream",
       "stream": "stdout",
       "text": [
        "\n",
        "Progress: 70.0"
       ]
      },
      {
       "output_type": "stream",
       "stream": "stdout",
       "text": [
        "\n",
        "Progress: 80.0"
       ]
      },
      {
       "output_type": "stream",
       "stream": "stdout",
       "text": [
        "\n",
        "Progress: 90.0"
       ]
      },
      {
       "output_type": "stream",
       "stream": "stdout",
       "text": [
        "\n",
        "Progress: 100.0"
       ]
      },
      {
       "output_type": "stream",
       "stream": "stdout",
       "text": [
        "\n",
        "Progress: 10.0"
       ]
      },
      {
       "output_type": "stream",
       "stream": "stdout",
       "text": [
        "\n",
        "Progress: 20.0"
       ]
      },
      {
       "output_type": "stream",
       "stream": "stdout",
       "text": [
        "\n",
        "Progress: 30.0"
       ]
      },
      {
       "output_type": "stream",
       "stream": "stdout",
       "text": [
        "\n",
        "Progress: 40.0"
       ]
      },
      {
       "output_type": "stream",
       "stream": "stdout",
       "text": [
        "\n",
        "Progress: 50.0"
       ]
      },
      {
       "output_type": "stream",
       "stream": "stdout",
       "text": [
        "\n",
        "Progress: 60.0"
       ]
      },
      {
       "output_type": "stream",
       "stream": "stdout",
       "text": [
        "\n",
        "Progress: 70.0"
       ]
      },
      {
       "output_type": "stream",
       "stream": "stdout",
       "text": [
        "\n",
        "Progress: 80.0"
       ]
      },
      {
       "output_type": "stream",
       "stream": "stdout",
       "text": [
        "\n",
        "Progress: 90.0"
       ]
      },
      {
       "output_type": "stream",
       "stream": "stdout",
       "text": [
        "\n",
        "Progress: 100.0"
       ]
      },
      {
       "output_type": "stream",
       "stream": "stdout",
       "text": [
        "\n",
        "Progress: 10.0"
       ]
      },
      {
       "output_type": "stream",
       "stream": "stdout",
       "text": [
        "\n",
        "Progress: 20.0"
       ]
      },
      {
       "output_type": "stream",
       "stream": "stdout",
       "text": [
        "\n",
        "Progress: 30.0"
       ]
      },
      {
       "output_type": "stream",
       "stream": "stdout",
       "text": [
        "\n",
        "Progress: 40.0"
       ]
      },
      {
       "output_type": "stream",
       "stream": "stdout",
       "text": [
        "\n",
        "Progress: 50.0"
       ]
      },
      {
       "output_type": "stream",
       "stream": "stdout",
       "text": [
        "\n",
        "Progress: 60.0"
       ]
      },
      {
       "output_type": "stream",
       "stream": "stdout",
       "text": [
        "\n",
        "Progress: 70.0"
       ]
      },
      {
       "output_type": "stream",
       "stream": "stdout",
       "text": [
        "\n",
        "Progress: 80.0"
       ]
      },
      {
       "output_type": "stream",
       "stream": "stdout",
       "text": [
        "\n",
        "Progress: 90.0"
       ]
      },
      {
       "output_type": "stream",
       "stream": "stdout",
       "text": [
        "\n",
        "Progress: 100.0"
       ]
      },
      {
       "output_type": "stream",
       "stream": "stdout",
       "text": [
        "\n",
        "Progress: 10.0"
       ]
      },
      {
       "output_type": "stream",
       "stream": "stdout",
       "text": [
        "\n",
        "Progress: 20.0"
       ]
      },
      {
       "output_type": "stream",
       "stream": "stdout",
       "text": [
        "\n",
        "Progress: 30.0"
       ]
      },
      {
       "output_type": "stream",
       "stream": "stdout",
       "text": [
        "\n",
        "Progress: 40.0"
       ]
      },
      {
       "output_type": "stream",
       "stream": "stdout",
       "text": [
        "\n",
        "Progress: 50.0"
       ]
      },
      {
       "output_type": "stream",
       "stream": "stdout",
       "text": [
        "\n",
        "Progress: 60.0"
       ]
      },
      {
       "output_type": "stream",
       "stream": "stdout",
       "text": [
        "\n",
        "Progress: 70.0"
       ]
      },
      {
       "output_type": "stream",
       "stream": "stdout",
       "text": [
        "\n",
        "Progress: 80.0"
       ]
      },
      {
       "output_type": "stream",
       "stream": "stdout",
       "text": [
        "\n",
        "Progress: 90.0"
       ]
      },
      {
       "output_type": "stream",
       "stream": "stdout",
       "text": [
        "\n",
        "Progress: 100.0"
       ]
      },
      {
       "output_type": "stream",
       "stream": "stdout",
       "text": [
        "\n",
        "Progress: 10.0"
       ]
      },
      {
       "output_type": "stream",
       "stream": "stdout",
       "text": [
        "\n",
        "Progress: 20.0"
       ]
      },
      {
       "output_type": "stream",
       "stream": "stdout",
       "text": [
        "\n",
        "Progress: 30.0"
       ]
      },
      {
       "output_type": "stream",
       "stream": "stdout",
       "text": [
        "\n",
        "Progress: 40.0"
       ]
      },
      {
       "output_type": "stream",
       "stream": "stdout",
       "text": [
        "\n",
        "Progress: 50.0"
       ]
      },
      {
       "output_type": "stream",
       "stream": "stdout",
       "text": [
        "\n",
        "Progress: 60.0"
       ]
      },
      {
       "output_type": "stream",
       "stream": "stdout",
       "text": [
        "\n",
        "Progress: 70.0"
       ]
      },
      {
       "output_type": "stream",
       "stream": "stdout",
       "text": [
        "\n",
        "Progress: 80.0"
       ]
      },
      {
       "output_type": "stream",
       "stream": "stdout",
       "text": [
        "\n",
        "Progress: 90.0"
       ]
      },
      {
       "output_type": "stream",
       "stream": "stdout",
       "text": [
        "\n",
        "Progress: 100.0"
       ]
      },
      {
       "output_type": "stream",
       "stream": "stdout",
       "text": [
        "\n",
        "Progress: 10.0"
       ]
      },
      {
       "output_type": "stream",
       "stream": "stdout",
       "text": [
        "\n",
        "Progress: 20.0"
       ]
      },
      {
       "output_type": "stream",
       "stream": "stdout",
       "text": [
        "\n",
        "Progress: 30.0"
       ]
      },
      {
       "output_type": "stream",
       "stream": "stdout",
       "text": [
        "\n",
        "Progress: 40.0"
       ]
      },
      {
       "output_type": "stream",
       "stream": "stdout",
       "text": [
        "\n",
        "Progress: 50.0"
       ]
      },
      {
       "output_type": "stream",
       "stream": "stdout",
       "text": [
        "\n",
        "Progress: 60.0"
       ]
      },
      {
       "output_type": "stream",
       "stream": "stdout",
       "text": [
        "\n",
        "Progress: 70.0"
       ]
      },
      {
       "output_type": "stream",
       "stream": "stdout",
       "text": [
        "\n",
        "Progress: 80.0"
       ]
      },
      {
       "output_type": "stream",
       "stream": "stdout",
       "text": [
        "\n",
        "Progress: 90.0"
       ]
      },
      {
       "output_type": "stream",
       "stream": "stdout",
       "text": [
        "\n",
        "Progress: 100.0"
       ]
      },
      {
       "output_type": "stream",
       "stream": "stdout",
       "text": [
        "\n",
        "Progress: 10.0"
       ]
      },
      {
       "output_type": "stream",
       "stream": "stdout",
       "text": [
        "\n",
        "Progress: 20.0"
       ]
      },
      {
       "output_type": "stream",
       "stream": "stdout",
       "text": [
        "\n",
        "Progress: 30.0"
       ]
      },
      {
       "output_type": "stream",
       "stream": "stdout",
       "text": [
        "\n",
        "Progress: 40.0"
       ]
      },
      {
       "output_type": "stream",
       "stream": "stdout",
       "text": [
        "\n",
        "Progress: 50.0"
       ]
      }
     ],
     "prompt_number": "*"
    },
    {
     "cell_type": "code",
     "collapsed": false,
     "input": [],
     "language": "python",
     "metadata": {},
     "outputs": []
    }
   ],
   "metadata": {}
  }
 ]
}